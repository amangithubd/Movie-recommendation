{
 "cells": [
  {
   "cell_type": "code",
   "execution_count": 14,
   "id": "6aa8e011-bab2-428a-85dc-02892f299ba2",
   "metadata": {},
   "outputs": [
    {
     "name": "stdout",
     "output_type": "stream",
     "text": [
      "Requirement already satisfied: pandas in c:\\users\\admin\\appdata\\local\\programs\\python\\python311\\lib\\site-packages (2.1.1)\n",
      "Requirement already satisfied: numpy>=1.23.2 in c:\\users\\admin\\appdata\\local\\programs\\python\\python311\\lib\\site-packages (from pandas) (1.26.0)\n",
      "Requirement already satisfied: python-dateutil>=2.8.2 in c:\\users\\admin\\appdata\\local\\programs\\python\\python311\\lib\\site-packages (from pandas) (2.8.2)\n",
      "Requirement already satisfied: pytz>=2020.1 in c:\\users\\admin\\appdata\\local\\programs\\python\\python311\\lib\\site-packages (from pandas) (2023.3.post1)\n",
      "Requirement already satisfied: tzdata>=2022.1 in c:\\users\\admin\\appdata\\local\\programs\\python\\python311\\lib\\site-packages (from pandas) (2023.3)\n",
      "Requirement already satisfied: six>=1.5 in c:\\users\\admin\\appdata\\local\\programs\\python\\python311\\lib\\site-packages (from python-dateutil>=2.8.2->pandas) (1.16.0)\n"
     ]
    },
    {
     "name": "stderr",
     "output_type": "stream",
     "text": [
      "\n",
      "[notice] A new release of pip is available: 23.2.1 -> 23.3.1\n",
      "[notice] To update, run: python.exe -m pip install --upgrade pip\n"
     ]
    },
    {
     "name": "stdout",
     "output_type": "stream",
     "text": [
      "Requirement already satisfied: requests in c:\\users\\admin\\appdata\\local\\programs\\python\\python311\\lib\\site-packages (2.31.0)\n",
      "Requirement already satisfied: charset-normalizer<4,>=2 in c:\\users\\admin\\appdata\\local\\programs\\python\\python311\\lib\\site-packages (from requests) (3.2.0)\n",
      "Requirement already satisfied: idna<4,>=2.5 in c:\\users\\admin\\appdata\\local\\programs\\python\\python311\\lib\\site-packages (from requests) (3.4)\n",
      "Requirement already satisfied: urllib3<3,>=1.21.1 in c:\\users\\admin\\appdata\\local\\programs\\python\\python311\\lib\\site-packages (from requests) (2.0.5)\n",
      "Requirement already satisfied: certifi>=2017.4.17 in c:\\users\\admin\\appdata\\local\\programs\\python\\python311\\lib\\site-packages (from requests) (2023.7.22)\n"
     ]
    },
    {
     "name": "stderr",
     "output_type": "stream",
     "text": [
      "\n",
      "[notice] A new release of pip is available: 23.2.1 -> 23.3.1\n",
      "[notice] To update, run: python.exe -m pip install --upgrade pip\n"
     ]
    },
    {
     "name": "stdout",
     "output_type": "stream",
     "text": [
      "Requirement already satisfied: numpy in c:\\users\\admin\\appdata\\local\\programs\\python\\python311\\lib\\site-packages (1.26.0)"
     ]
    },
    {
     "name": "stderr",
     "output_type": "stream",
     "text": [
      "\n",
      "[notice] A new release of pip is available: 23.2.1 -> 23.3.1\n",
      "[notice] To update, run: python.exe -m pip install --upgrade pip\n"
     ]
    },
    {
     "name": "stdout",
     "output_type": "stream",
     "text": [
      "\n",
      "Requirement already satisfied: beautifulsoup4 in c:\\users\\admin\\appdata\\local\\programs\\python\\python311\\lib\\site-packages (4.12.2)\n",
      "Requirement already satisfied: soupsieve>1.2 in c:\\users\\admin\\appdata\\local\\programs\\python\\python311\\lib\\site-packages (from beautifulsoup4) (2.5)\n"
     ]
    },
    {
     "name": "stderr",
     "output_type": "stream",
     "text": [
      "\n",
      "[notice] A new release of pip is available: 23.2.1 -> 23.3.1\n",
      "[notice] To update, run: python.exe -m pip install --upgrade pip\n"
     ]
    }
   ],
   "source": [
    "! pip install pandas\n",
    "! pip install requests\n",
    "! pip install numpy\n",
    "! pip install beautifulsoup4"
   ]
  },
  {
   "cell_type": "code",
   "execution_count": 36,
   "id": "80e31b4f-56cd-4d6b-865d-9e4b368a4d4c",
   "metadata": {},
   "outputs": [],
   "source": [
    "import pandas as pd\n",
    "import numpy as np\n",
    "import requests\n",
    "import imdb\n",
    "from bs4 import BeautifulSoup as bs\n",
    "import csv\n",
    "from sklearn.feature_extraction.text import TfidfVectorizer\n",
    "from sklearn.metrics.pairwise import linear_kernel"
   ]
  },
  {
   "cell_type": "code",
   "execution_count": 16,
   "id": "7d62e9ca-b87f-4081-9ece-d471b68f33fc",
   "metadata": {},
   "outputs": [],
   "source": [
    "file_path = r'C:\\Users\\Admin\\Desktop\\JP\\Web scrapping\\movie_info2.csv'\n",
    "df = pd.read_csv(file_path, encoding='ISO-8859-1')"
   ]
  },
  {
   "cell_type": "code",
   "execution_count": 17,
   "id": "bbe84305-6185-400a-b48b-1e7cd1a01dda",
   "metadata": {},
   "outputs": [
    {
     "data": {
      "text/html": [
       "<div>\n",
       "<style scoped>\n",
       "    .dataframe tbody tr th:only-of-type {\n",
       "        vertical-align: middle;\n",
       "    }\n",
       "\n",
       "    .dataframe tbody tr th {\n",
       "        vertical-align: top;\n",
       "    }\n",
       "\n",
       "    .dataframe thead th {\n",
       "        text-align: right;\n",
       "    }\n",
       "</style>\n",
       "<table border=\"1\" class=\"dataframe\">\n",
       "  <thead>\n",
       "    <tr style=\"text-align: right;\">\n",
       "      <th></th>\n",
       "      <th>Movie Name</th>\n",
       "      <th>Imdb_id</th>\n",
       "      <th>Rating</th>\n",
       "      <th>Release Date</th>\n",
       "      <th>Genres</th>\n",
       "      <th>Cast</th>\n",
       "    </tr>\n",
       "  </thead>\n",
       "  <tbody>\n",
       "    <tr>\n",
       "      <th>0</th>\n",
       "      <td>3 Idiots</td>\n",
       "      <td>tt1187043</td>\n",
       "      <td>8.4</td>\n",
       "      <td>2009</td>\n",
       "      <td>Comedy,Drama</td>\n",
       "      <td>Aamir Khan,Madhavan,Mona Singh,Sharman Joshi,K...</td>\n",
       "    </tr>\n",
       "    <tr>\n",
       "      <th>1</th>\n",
       "      <td>Taare Zameen Par</td>\n",
       "      <td>tt0986264</td>\n",
       "      <td>8.3</td>\n",
       "      <td>2007</td>\n",
       "      <td>Drama,Family</td>\n",
       "      <td>Darsheel Safary,Aamir Khan,Tanay Chheda,Sachet...</td>\n",
       "    </tr>\n",
       "    <tr>\n",
       "      <th>2</th>\n",
       "      <td>PK</td>\n",
       "      <td>tt2338151</td>\n",
       "      <td>8.1</td>\n",
       "      <td>2014</td>\n",
       "      <td>Comedy,Drama,Sci-Fi</td>\n",
       "      <td>Aamir Khan,Anushka Sharma,Sanjay Dutt,Boman Ir...</td>\n",
       "    </tr>\n",
       "    <tr>\n",
       "      <th>3</th>\n",
       "      <td>Dangal</td>\n",
       "      <td>tt5074352</td>\n",
       "      <td>8.3</td>\n",
       "      <td>2016</td>\n",
       "      <td>Action,Biography,Drama</td>\n",
       "      <td>Aamir Khan,Sakshi Tanwar,Fatima Sana Shaikh,Sa...</td>\n",
       "    </tr>\n",
       "    <tr>\n",
       "      <th>4</th>\n",
       "      <td>Rang De Basanti</td>\n",
       "      <td>tt0405508</td>\n",
       "      <td>8.1</td>\n",
       "      <td>2006</td>\n",
       "      <td>Comedy,Crime,Drama</td>\n",
       "      <td>Aamir Khan,Soha Ali Khan,Siddharth,Sharman Jos...</td>\n",
       "    </tr>\n",
       "    <tr>\n",
       "      <th>...</th>\n",
       "      <td>...</td>\n",
       "      <td>...</td>\n",
       "      <td>...</td>\n",
       "      <td>...</td>\n",
       "      <td>...</td>\n",
       "      <td>...</td>\n",
       "    </tr>\n",
       "    <tr>\n",
       "      <th>3531</th>\n",
       "      <td>Mehmaan</td>\n",
       "      <td>tt0213879</td>\n",
       "      <td>5.7</td>\n",
       "      <td>IMDbPro</td>\n",
       "      <td>Action,Crime,Drama</td>\n",
       "      <td>Biswajeet Chatterjee,Rekha,Sulochana Latkar,Ma...</td>\n",
       "    </tr>\n",
       "    <tr>\n",
       "      <th>3532</th>\n",
       "      <td>Sorry Daddy</td>\n",
       "      <td>tt4994210</td>\n",
       "      <td>6.0</td>\n",
       "      <td>IMDbPro</td>\n",
       "      <td>Action</td>\n",
       "      <td>Shamim Khan,Tahir Kamaal Khan,Anupam Shukla,Mu...</td>\n",
       "    </tr>\n",
       "    <tr>\n",
       "      <th>3533</th>\n",
       "      <td>Raadha Aur Seeta</td>\n",
       "      <td>tt0378633</td>\n",
       "      <td>6.3</td>\n",
       "      <td>1979</td>\n",
       "      <td>Drama,Family</td>\n",
       "      <td>Rajendranath Malhotra,Madan Puri,Leela Mishra,...</td>\n",
       "    </tr>\n",
       "    <tr>\n",
       "      <th>3534</th>\n",
       "      <td>IPC Section 302</td>\n",
       "      <td>tt0359129</td>\n",
       "      <td>4.7</td>\n",
       "      <td>1975</td>\n",
       "      <td>Drama,Mystery</td>\n",
       "      <td>Randhir Kapoor,Rekha,Ajit Khan,Ashok Kumar,Pre...</td>\n",
       "    </tr>\n",
       "    <tr>\n",
       "      <th>3535</th>\n",
       "      <td>Calapor</td>\n",
       "      <td>tt3311236</td>\n",
       "      <td>5.2</td>\n",
       "      <td>2013</td>\n",
       "      <td>Drama</td>\n",
       "      <td>Hemant Gopal,Trisha Patil,Rituparna Sengupta</td>\n",
       "    </tr>\n",
       "  </tbody>\n",
       "</table>\n",
       "<p>3536 rows × 6 columns</p>\n",
       "</div>"
      ],
      "text/plain": [
       "            Movie Name    Imdb_id  Rating Release Date  \\\n",
       "0             3 Idiots  tt1187043     8.4         2009   \n",
       "1     Taare Zameen Par  tt0986264     8.3         2007   \n",
       "2                   PK  tt2338151     8.1         2014   \n",
       "3               Dangal  tt5074352     8.3         2016   \n",
       "4      Rang De Basanti  tt0405508     8.1         2006   \n",
       "...                ...        ...     ...          ...   \n",
       "3531           Mehmaan  tt0213879     5.7      IMDbPro   \n",
       "3532       Sorry Daddy  tt4994210     6.0      IMDbPro   \n",
       "3533  Raadha Aur Seeta  tt0378633     6.3         1979   \n",
       "3534   IPC Section 302  tt0359129     4.7         1975   \n",
       "3535           Calapor  tt3311236     5.2         2013   \n",
       "\n",
       "                      Genres  \\\n",
       "0               Comedy,Drama   \n",
       "1               Drama,Family   \n",
       "2        Comedy,Drama,Sci-Fi   \n",
       "3     Action,Biography,Drama   \n",
       "4         Comedy,Crime,Drama   \n",
       "...                      ...   \n",
       "3531      Action,Crime,Drama   \n",
       "3532                  Action   \n",
       "3533            Drama,Family   \n",
       "3534           Drama,Mystery   \n",
       "3535                   Drama   \n",
       "\n",
       "                                                   Cast  \n",
       "0     Aamir Khan,Madhavan,Mona Singh,Sharman Joshi,K...  \n",
       "1     Darsheel Safary,Aamir Khan,Tanay Chheda,Sachet...  \n",
       "2     Aamir Khan,Anushka Sharma,Sanjay Dutt,Boman Ir...  \n",
       "3     Aamir Khan,Sakshi Tanwar,Fatima Sana Shaikh,Sa...  \n",
       "4     Aamir Khan,Soha Ali Khan,Siddharth,Sharman Jos...  \n",
       "...                                                 ...  \n",
       "3531  Biswajeet Chatterjee,Rekha,Sulochana Latkar,Ma...  \n",
       "3532  Shamim Khan,Tahir Kamaal Khan,Anupam Shukla,Mu...  \n",
       "3533  Rajendranath Malhotra,Madan Puri,Leela Mishra,...  \n",
       "3534  Randhir Kapoor,Rekha,Ajit Khan,Ashok Kumar,Pre...  \n",
       "3535       Hemant Gopal,Trisha Patil,Rituparna Sengupta  \n",
       "\n",
       "[3536 rows x 6 columns]"
      ]
     },
     "execution_count": 17,
     "metadata": {},
     "output_type": "execute_result"
    }
   ],
   "source": [
    "df"
   ]
  },
  {
   "cell_type": "code",
   "execution_count": 18,
   "id": "af85af98-9d6f-47fe-81ee-4890cfe7659c",
   "metadata": {},
   "outputs": [
    {
     "data": {
      "text/plain": [
       "Movie Name        0\n",
       "Imdb_id           0\n",
       "Rating          272\n",
       "Release Date      3\n",
       "Genres           96\n",
       "Cast            156\n",
       "dtype: int64"
      ]
     },
     "execution_count": 18,
     "metadata": {},
     "output_type": "execute_result"
    }
   ],
   "source": [
    "df.isna().sum()"
   ]
  },
  {
   "cell_type": "code",
   "execution_count": 19,
   "id": "04d72b8c-3b01-414f-b30c-db93f7169e30",
   "metadata": {},
   "outputs": [],
   "source": [
    "df['Rating'].fillna(0, inplace=True)\n",
    "df['Cast'].fillna(\"Unknown\", inplace=True)\n",
    "df['Release Date'].fillna(\"000\", inplace=True)\n",
    "df['Genres'].fillna(\"General\", inplace=True)\n"
   ]
  },
  {
   "cell_type": "code",
   "execution_count": 20,
   "id": "46b1d9fa-8303-490c-8812-98252988480d",
   "metadata": {},
   "outputs": [
    {
     "data": {
      "text/plain": [
       "Movie Name      0\n",
       "Imdb_id         0\n",
       "Rating          0\n",
       "Release Date    0\n",
       "Genres          0\n",
       "Cast            0\n",
       "dtype: int64"
      ]
     },
     "execution_count": 20,
     "metadata": {},
     "output_type": "execute_result"
    }
   ],
   "source": [
    "df.isna().sum()"
   ]
  },
  {
   "cell_type": "code",
   "execution_count": 21,
   "id": "5021f985-6e47-48b8-91bc-65529449c24a",
   "metadata": {},
   "outputs": [],
   "source": [
    "Tfidf=TfidfVectorizer()"
   ]
  },
  {
   "cell_type": "code",
   "execution_count": 22,
   "id": "4c5b2d21-c832-4ad5-95de-410b89d88e53",
   "metadata": {},
   "outputs": [],
   "source": [
    "vectors=Tfidf.fit_transform(df['Genres'])"
   ]
  },
  {
   "cell_type": "code",
   "execution_count": 23,
   "id": "5b8a80df-032d-4456-818d-1003efe23cfa",
   "metadata": {},
   "outputs": [
    {
     "data": {
      "text/plain": [
       "array([[0.        , 0.        , 0.        , 0.        , 0.84347259,\n",
       "        0.        , 0.        , 0.53717222, 0.        , 0.        ,\n",
       "        0.        , 0.        , 0.        , 0.        , 0.        ,\n",
       "        0.        , 0.        , 0.        , 0.        , 0.        ,\n",
       "        0.        , 0.        , 0.        , 0.        , 0.        ,\n",
       "        0.        , 0.        , 0.        , 0.        , 0.        ]])"
      ]
     },
     "execution_count": 23,
     "metadata": {},
     "output_type": "execute_result"
    }
   ],
   "source": [
    "vectors[0].toarray()"
   ]
  },
  {
   "cell_type": "code",
   "execution_count": 37,
   "id": "31473643-f62d-4fab-92ea-068c8dacf196",
   "metadata": {},
   "outputs": [],
   "source": [
    "indexed=pd.Series(index=df[\"Movie Name\"],data=df.index)"
   ]
  },
  {
   "cell_type": "code",
   "execution_count": 38,
   "id": "4e81240f-8dd7-4ef5-9951-b01ed468d966",
   "metadata": {},
   "outputs": [
    {
     "data": {
      "text/plain": [
       "Movie Name\n",
       "3 Idiots               0\n",
       "Taare Zameen Par       1\n",
       "PK                     2\n",
       "Dangal                 3\n",
       "Rang De Basanti        4\n",
       "                    ... \n",
       "Mehmaan             3531\n",
       "Sorry Daddy         3532\n",
       "Raadha Aur Seeta    3533\n",
       "IPC Section 302     3534\n",
       "Calapor             3535\n",
       "Length: 3536, dtype: int64"
      ]
     },
     "execution_count": 38,
     "metadata": {},
     "output_type": "execute_result"
    }
   ],
   "source": [
    "indexed"
   ]
  },
  {
   "cell_type": "code",
   "execution_count": 39,
   "id": "ea4f9a66-4aab-4bd7-b086-e748701bfce1",
   "metadata": {},
   "outputs": [
    {
     "data": {
      "text/plain": [
       "0"
      ]
     },
     "execution_count": 39,
     "metadata": {},
     "output_type": "execute_result"
    }
   ],
   "source": [
    "indexed[\"3 Idiots\"]"
   ]
  },
  {
   "cell_type": "code",
   "execution_count": 32,
   "id": "51762a7e-7e15-42aa-9785-34067bc5ad6b",
   "metadata": {},
   "outputs": [
    {
     "data": {
      "text/plain": [
       "array([[0.        , 0.        , 0.        , 0.        , 0.24993254,\n",
       "        0.        , 0.        , 0.15917153, 0.        , 0.        ,\n",
       "        0.67535107, 0.        , 0.        , 0.        , 0.        ,\n",
       "        0.        , 0.        , 0.        , 0.        , 0.        ,\n",
       "        0.        , 0.67535107, 0.        , 0.        , 0.        ,\n",
       "        0.        , 0.        , 0.        , 0.        , 0.        ]])"
      ]
     },
     "execution_count": 32,
     "metadata": {},
     "output_type": "execute_result"
    }
   ],
   "source": [
    "vectors[2].toarray()"
   ]
  },
  {
   "cell_type": "code",
   "execution_count": 44,
   "id": "6096b26f-2ea1-4824-b459-d4f3626283fb",
   "metadata": {},
   "outputs": [],
   "source": [
    "dis=linear_kernel(vectors[600],vectors)"
   ]
  },
  {
   "cell_type": "code",
   "execution_count": 45,
   "id": "4504f3a4-37d5-4910-85f1-b2462434e5a5",
   "metadata": {},
   "outputs": [
    {
     "data": {
      "text/plain": [
       "array([[0.58138015, 0.        , 0.17227094, ..., 0.        , 0.        ,\n",
       "        0.        ]])"
      ]
     },
     "execution_count": 45,
     "metadata": {},
     "output_type": "execute_result"
    }
   ],
   "source": [
    "dis"
   ]
  },
  {
   "cell_type": "code",
   "execution_count": 46,
   "id": "15b39c3d-83a6-4d65-92f5-6f24e9bf4747",
   "metadata": {},
   "outputs": [],
   "source": [
    "score=pd.DataFrame(dis)"
   ]
  },
  {
   "cell_type": "code",
   "execution_count": 47,
   "id": "7d7d63e8-15f6-480d-a0f4-2afc69029696",
   "metadata": {},
   "outputs": [
    {
     "data": {
      "text/html": [
       "<div>\n",
       "<style scoped>\n",
       "    .dataframe tbody tr th:only-of-type {\n",
       "        vertical-align: middle;\n",
       "    }\n",
       "\n",
       "    .dataframe tbody tr th {\n",
       "        vertical-align: top;\n",
       "    }\n",
       "\n",
       "    .dataframe thead th {\n",
       "        text-align: right;\n",
       "    }\n",
       "</style>\n",
       "<table border=\"1\" class=\"dataframe\">\n",
       "  <thead>\n",
       "    <tr style=\"text-align: right;\">\n",
       "      <th></th>\n",
       "      <th>0</th>\n",
       "      <th>1</th>\n",
       "      <th>2</th>\n",
       "      <th>3</th>\n",
       "      <th>4</th>\n",
       "      <th>5</th>\n",
       "      <th>6</th>\n",
       "      <th>7</th>\n",
       "      <th>8</th>\n",
       "      <th>9</th>\n",
       "      <th>...</th>\n",
       "      <th>3526</th>\n",
       "      <th>3527</th>\n",
       "      <th>3528</th>\n",
       "      <th>3529</th>\n",
       "      <th>3530</th>\n",
       "      <th>3531</th>\n",
       "      <th>3532</th>\n",
       "      <th>3533</th>\n",
       "      <th>3534</th>\n",
       "      <th>3535</th>\n",
       "    </tr>\n",
       "  </thead>\n",
       "  <tbody>\n",
       "    <tr>\n",
       "      <th>0</th>\n",
       "      <td>0.58138</td>\n",
       "      <td>0.0</td>\n",
       "      <td>0.172271</td>\n",
       "      <td>0.0</td>\n",
       "      <td>0.396865</td>\n",
       "      <td>0.0</td>\n",
       "      <td>0.346331</td>\n",
       "      <td>0.0</td>\n",
       "      <td>0.366388</td>\n",
       "      <td>0.366388</td>\n",
       "      <td>...</td>\n",
       "      <td>0.0</td>\n",
       "      <td>0.724505</td>\n",
       "      <td>0.619643</td>\n",
       "      <td>0.0</td>\n",
       "      <td>0.0</td>\n",
       "      <td>0.0</td>\n",
       "      <td>0.0</td>\n",
       "      <td>0.0</td>\n",
       "      <td>0.0</td>\n",
       "      <td>0.0</td>\n",
       "    </tr>\n",
       "  </tbody>\n",
       "</table>\n",
       "<p>1 rows × 3536 columns</p>\n",
       "</div>"
      ],
      "text/plain": [
       "      0     1         2     3         4     5         6     7         8     \\\n",
       "0  0.58138   0.0  0.172271   0.0  0.396865   0.0  0.346331   0.0  0.366388   \n",
       "\n",
       "       9     ...  3526      3527      3528  3529  3530  3531  3532  3533  \\\n",
       "0  0.366388  ...   0.0  0.724505  0.619643   0.0   0.0   0.0   0.0   0.0   \n",
       "\n",
       "   3534  3535  \n",
       "0   0.0   0.0  \n",
       "\n",
       "[1 rows x 3536 columns]"
      ]
     },
     "execution_count": 47,
     "metadata": {},
     "output_type": "execute_result"
    }
   ],
   "source": [
    "score"
   ]
  },
  {
   "cell_type": "code",
   "execution_count": 48,
   "id": "1ac5d7c8-7bf5-44fe-954a-f3458a460b75",
   "metadata": {},
   "outputs": [],
   "source": [
    "transpose_score=score.T"
   ]
  },
  {
   "cell_type": "code",
   "execution_count": 49,
   "id": "8815b709-0211-417b-9767-8262d31aa3c7",
   "metadata": {},
   "outputs": [
    {
     "data": {
      "text/html": [
       "<div>\n",
       "<style scoped>\n",
       "    .dataframe tbody tr th:only-of-type {\n",
       "        vertical-align: middle;\n",
       "    }\n",
       "\n",
       "    .dataframe tbody tr th {\n",
       "        vertical-align: top;\n",
       "    }\n",
       "\n",
       "    .dataframe thead th {\n",
       "        text-align: right;\n",
       "    }\n",
       "</style>\n",
       "<table border=\"1\" class=\"dataframe\">\n",
       "  <thead>\n",
       "    <tr style=\"text-align: right;\">\n",
       "      <th></th>\n",
       "      <th>0</th>\n",
       "    </tr>\n",
       "  </thead>\n",
       "  <tbody>\n",
       "    <tr>\n",
       "      <th>0</th>\n",
       "      <td>0.581380</td>\n",
       "    </tr>\n",
       "    <tr>\n",
       "      <th>1</th>\n",
       "      <td>0.000000</td>\n",
       "    </tr>\n",
       "    <tr>\n",
       "      <th>2</th>\n",
       "      <td>0.172271</td>\n",
       "    </tr>\n",
       "    <tr>\n",
       "      <th>3</th>\n",
       "      <td>0.000000</td>\n",
       "    </tr>\n",
       "    <tr>\n",
       "      <th>4</th>\n",
       "      <td>0.396865</td>\n",
       "    </tr>\n",
       "    <tr>\n",
       "      <th>...</th>\n",
       "      <td>...</td>\n",
       "    </tr>\n",
       "    <tr>\n",
       "      <th>3531</th>\n",
       "      <td>0.000000</td>\n",
       "    </tr>\n",
       "    <tr>\n",
       "      <th>3532</th>\n",
       "      <td>0.000000</td>\n",
       "    </tr>\n",
       "    <tr>\n",
       "      <th>3533</th>\n",
       "      <td>0.000000</td>\n",
       "    </tr>\n",
       "    <tr>\n",
       "      <th>3534</th>\n",
       "      <td>0.000000</td>\n",
       "    </tr>\n",
       "    <tr>\n",
       "      <th>3535</th>\n",
       "      <td>0.000000</td>\n",
       "    </tr>\n",
       "  </tbody>\n",
       "</table>\n",
       "<p>3536 rows × 1 columns</p>\n",
       "</div>"
      ],
      "text/plain": [
       "             0\n",
       "0     0.581380\n",
       "1     0.000000\n",
       "2     0.172271\n",
       "3     0.000000\n",
       "4     0.396865\n",
       "...        ...\n",
       "3531  0.000000\n",
       "3532  0.000000\n",
       "3533  0.000000\n",
       "3534  0.000000\n",
       "3535  0.000000\n",
       "\n",
       "[3536 rows x 1 columns]"
      ]
     },
     "execution_count": 49,
     "metadata": {},
     "output_type": "execute_result"
    }
   ],
   "source": [
    "transpose_score"
   ]
  },
  {
   "cell_type": "code",
   "execution_count": 50,
   "id": "b2045e30-0d5c-4d3d-b227-9a8db245a2c8",
   "metadata": {},
   "outputs": [],
   "source": [
    "transpose_score.columns=[\"scores\"]"
   ]
  },
  {
   "cell_type": "code",
   "execution_count": 51,
   "id": "90df1d64-6add-4b06-b9da-1418c698282d",
   "metadata": {},
   "outputs": [
    {
     "data": {
      "text/html": [
       "<div>\n",
       "<style scoped>\n",
       "    .dataframe tbody tr th:only-of-type {\n",
       "        vertical-align: middle;\n",
       "    }\n",
       "\n",
       "    .dataframe tbody tr th {\n",
       "        vertical-align: top;\n",
       "    }\n",
       "\n",
       "    .dataframe thead th {\n",
       "        text-align: right;\n",
       "    }\n",
       "</style>\n",
       "<table border=\"1\" class=\"dataframe\">\n",
       "  <thead>\n",
       "    <tr style=\"text-align: right;\">\n",
       "      <th></th>\n",
       "      <th>scores</th>\n",
       "    </tr>\n",
       "  </thead>\n",
       "  <tbody>\n",
       "    <tr>\n",
       "      <th>0</th>\n",
       "      <td>0.581380</td>\n",
       "    </tr>\n",
       "    <tr>\n",
       "      <th>1</th>\n",
       "      <td>0.000000</td>\n",
       "    </tr>\n",
       "    <tr>\n",
       "      <th>2</th>\n",
       "      <td>0.172271</td>\n",
       "    </tr>\n",
       "    <tr>\n",
       "      <th>3</th>\n",
       "      <td>0.000000</td>\n",
       "    </tr>\n",
       "    <tr>\n",
       "      <th>4</th>\n",
       "      <td>0.396865</td>\n",
       "    </tr>\n",
       "    <tr>\n",
       "      <th>...</th>\n",
       "      <td>...</td>\n",
       "    </tr>\n",
       "    <tr>\n",
       "      <th>3531</th>\n",
       "      <td>0.000000</td>\n",
       "    </tr>\n",
       "    <tr>\n",
       "      <th>3532</th>\n",
       "      <td>0.000000</td>\n",
       "    </tr>\n",
       "    <tr>\n",
       "      <th>3533</th>\n",
       "      <td>0.000000</td>\n",
       "    </tr>\n",
       "    <tr>\n",
       "      <th>3534</th>\n",
       "      <td>0.000000</td>\n",
       "    </tr>\n",
       "    <tr>\n",
       "      <th>3535</th>\n",
       "      <td>0.000000</td>\n",
       "    </tr>\n",
       "  </tbody>\n",
       "</table>\n",
       "<p>3536 rows × 1 columns</p>\n",
       "</div>"
      ],
      "text/plain": [
       "        scores\n",
       "0     0.581380\n",
       "1     0.000000\n",
       "2     0.172271\n",
       "3     0.000000\n",
       "4     0.396865\n",
       "...        ...\n",
       "3531  0.000000\n",
       "3532  0.000000\n",
       "3533  0.000000\n",
       "3534  0.000000\n",
       "3535  0.000000\n",
       "\n",
       "[3536 rows x 1 columns]"
      ]
     },
     "execution_count": 51,
     "metadata": {},
     "output_type": "execute_result"
    }
   ],
   "source": [
    "transpose_score"
   ]
  },
  {
   "cell_type": "code",
   "execution_count": 53,
   "id": "0da6c304-d5bc-48a1-888e-f62376e8f224",
   "metadata": {},
   "outputs": [
    {
     "data": {
      "text/plain": [
       "'Raaz Reboot'"
      ]
     },
     "execution_count": 53,
     "metadata": {},
     "output_type": "execute_result"
    }
   ],
   "source": [
    "df[\"Movie Name\"][787]"
   ]
  },
  {
   "cell_type": "code",
   "execution_count": 58,
   "id": "1b372c9b-5b09-4d9e-9064-c5023ced2e49",
   "metadata": {},
   "outputs": [],
   "source": [
    "def movie_recomm(name,n):\n",
    "    dis=linear_kernel(vectors[indexed[name]],vectors)\n",
    "    scores=pd.DataFrame(dis).T\n",
    "    scores.columns=[\"Score\"]\n",
    "    scores=scores.sort_values('Score',ascending=False)\n",
    "    \n",
    "    list=[]\n",
    "    for i in range(0 , n+1):\n",
    "        s={\n",
    "            \"title\":df[\"Movie Name\"][scores.index[i]],\n",
    "            'rating':df['Rating'][scores.index[i]],\n",
    "            'genre':df[\"Genres\"][scores.index[i]]\n",
    "        }\n",
    "        list.append(s)\n",
    "    \n",
    "    \n",
    "    return list"
   ]
  },
  {
   "cell_type": "code",
   "execution_count": 60,
   "id": "8f22271d-0397-429d-9431-92fc2886684d",
   "metadata": {},
   "outputs": [
    {
     "data": {
      "text/html": [
       "<div>\n",
       "<style scoped>\n",
       "    .dataframe tbody tr th:only-of-type {\n",
       "        vertical-align: middle;\n",
       "    }\n",
       "\n",
       "    .dataframe tbody tr th {\n",
       "        vertical-align: top;\n",
       "    }\n",
       "\n",
       "    .dataframe thead th {\n",
       "        text-align: right;\n",
       "    }\n",
       "</style>\n",
       "<table border=\"1\" class=\"dataframe\">\n",
       "  <thead>\n",
       "    <tr style=\"text-align: right;\">\n",
       "      <th></th>\n",
       "      <th>title</th>\n",
       "      <th>rating</th>\n",
       "      <th>genre</th>\n",
       "    </tr>\n",
       "  </thead>\n",
       "  <tbody>\n",
       "    <tr>\n",
       "      <th>0</th>\n",
       "      <td>Raaz Reboot</td>\n",
       "      <td>4.4</td>\n",
       "      <td>Horror,Mystery,Romance</td>\n",
       "    </tr>\n",
       "    <tr>\n",
       "      <th>1</th>\n",
       "      <td>1920</td>\n",
       "      <td>6.4</td>\n",
       "      <td>Horror,Mystery,Romance</td>\n",
       "    </tr>\n",
       "    <tr>\n",
       "      <th>2</th>\n",
       "      <td>Krishna Cottage</td>\n",
       "      <td>5.2</td>\n",
       "      <td>Horror,Mystery,Romance</td>\n",
       "    </tr>\n",
       "    <tr>\n",
       "      <th>3</th>\n",
       "      <td>Kucch To Hai</td>\n",
       "      <td>4.3</td>\n",
       "      <td>Horror,Mystery,Romance</td>\n",
       "    </tr>\n",
       "    <tr>\n",
       "      <th>4</th>\n",
       "      <td>Raaz: The Mystery Continues</td>\n",
       "      <td>5.7</td>\n",
       "      <td>Horror,Mystery,Romance</td>\n",
       "    </tr>\n",
       "    <tr>\n",
       "      <th>5</th>\n",
       "      <td>Censor</td>\n",
       "      <td>6.0</td>\n",
       "      <td>Horror,Mystery</td>\n",
       "    </tr>\n",
       "  </tbody>\n",
       "</table>\n",
       "</div>"
      ],
      "text/plain": [
       "                         title  rating                   genre\n",
       "0                  Raaz Reboot     4.4  Horror,Mystery,Romance\n",
       "1                         1920     6.4  Horror,Mystery,Romance\n",
       "2              Krishna Cottage     5.2  Horror,Mystery,Romance\n",
       "3                 Kucch To Hai     4.3  Horror,Mystery,Romance\n",
       "4  Raaz: The Mystery Continues     5.7  Horror,Mystery,Romance\n",
       "5                       Censor     6.0          Horror,Mystery"
      ]
     },
     "execution_count": 60,
     "metadata": {},
     "output_type": "execute_result"
    }
   ],
   "source": [
    "pd.DataFrame(movie_recomm(\"Raaz Reboot\",5))"
   ]
  },
  {
   "cell_type": "code",
   "execution_count": 67,
   "id": "1e578a0a-09bc-44a7-bd5d-0d9405b1346b",
   "metadata": {},
   "outputs": [
    {
     "name": "stdout",
     "output_type": "stream",
     "text": [
      "A    3\n",
      "B    7\n",
      "Name: row3, dtype: int64 row\n"
     ]
    }
   ],
   "source": [
    "import pandas as pd\n",
    "\n",
    "# Create a sample DataFrame\n",
    "data = {'A': [1, 2, 3, 4], 'B': [5, 6, 7, 8]}\n",
    "df = pd.DataFrame(data, index=['row1', 'row2', 'row3', 'row4'])\n",
    "\n",
    "# Select a single element by label\n",
    "element = df.loc['row2', 'A']  # Selects the value in row 'row2' and column 'A'\n",
    "# print(element,\"Element\")  # Output: 2\n",
    "\n",
    "# Select a row by label\n",
    "row = df.loc['row3']  # Selects the entire row with label 'row3'\n",
    "print(row,\"row\")\n"
   ]
  },
  {
   "cell_type": "code",
   "execution_count": 66,
   "id": "c527c702-7825-4383-b119-4fd110cd659b",
   "metadata": {},
   "outputs": [
    {
     "data": {
      "text/html": [
       "<div>\n",
       "<style scoped>\n",
       "    .dataframe tbody tr th:only-of-type {\n",
       "        vertical-align: middle;\n",
       "    }\n",
       "\n",
       "    .dataframe tbody tr th {\n",
       "        vertical-align: top;\n",
       "    }\n",
       "\n",
       "    .dataframe thead th {\n",
       "        text-align: right;\n",
       "    }\n",
       "</style>\n",
       "<table border=\"1\" class=\"dataframe\">\n",
       "  <thead>\n",
       "    <tr style=\"text-align: right;\">\n",
       "      <th></th>\n",
       "      <th>A</th>\n",
       "      <th>B</th>\n",
       "    </tr>\n",
       "  </thead>\n",
       "  <tbody>\n",
       "    <tr>\n",
       "      <th>row1</th>\n",
       "      <td>1</td>\n",
       "      <td>5</td>\n",
       "    </tr>\n",
       "    <tr>\n",
       "      <th>row2</th>\n",
       "      <td>2</td>\n",
       "      <td>6</td>\n",
       "    </tr>\n",
       "    <tr>\n",
       "      <th>row3</th>\n",
       "      <td>3</td>\n",
       "      <td>7</td>\n",
       "    </tr>\n",
       "    <tr>\n",
       "      <th>row4</th>\n",
       "      <td>4</td>\n",
       "      <td>8</td>\n",
       "    </tr>\n",
       "  </tbody>\n",
       "</table>\n",
       "</div>"
      ],
      "text/plain": [
       "      A  B\n",
       "row1  1  5\n",
       "row2  2  6\n",
       "row3  3  7\n",
       "row4  4  8"
      ]
     },
     "execution_count": 66,
     "metadata": {},
     "output_type": "execute_result"
    }
   ],
   "source": [
    "df"
   ]
  },
  {
   "cell_type": "code",
   "execution_count": 68,
   "id": "82c516de-f627-4801-bfbc-bc86bd35c7ec",
   "metadata": {},
   "outputs": [
    {
     "name": "stdout",
     "output_type": "stream",
     "text": [
      "      A  B\n",
      "row1  1  5\n",
      "row3  3  7\n"
     ]
    }
   ],
   "source": [
    "subset = df.loc[['row1', 'row3'], ['A', 'B']]\n",
    "print(subset)"
   ]
  },
  {
   "cell_type": "code",
   "execution_count": 69,
   "id": "b0a606e1-e875-405e-a9aa-d285920f8770",
   "metadata": {},
   "outputs": [
    {
     "name": "stdout",
     "output_type": "stream",
     "text": [
      "2\n"
     ]
    }
   ],
   "source": [
    "element = df.iloc[1, 0]  # Selects the value at row 1 and column 0 (0-based index)\n",
    "print(element)  # Output: 2"
   ]
  },
  {
   "cell_type": "code",
   "execution_count": 70,
   "id": "e6130853-61ec-43d2-bb2b-063613ba1dc9",
   "metadata": {},
   "outputs": [
    {
     "name": "stdout",
     "output_type": "stream",
     "text": [
      "A    3\n",
      "B    7\n",
      "Name: row3, dtype: int64\n"
     ]
    }
   ],
   "source": [
    "row = df.iloc[2]  # Selects the entire row at position 2 (0-based index)\n",
    "print(row)"
   ]
  },
  {
   "cell_type": "code",
   "execution_count": null,
   "id": "ec2c48b4-af66-4ac6-805c-fc7b4963511a",
   "metadata": {},
   "outputs": [],
   "source": []
  }
 ],
 "metadata": {
  "kernelspec": {
   "display_name": "Python 3 (ipykernel)",
   "language": "python",
   "name": "python3"
  },
  "language_info": {
   "codemirror_mode": {
    "name": "ipython",
    "version": 3
   },
   "file_extension": ".py",
   "mimetype": "text/x-python",
   "name": "python",
   "nbconvert_exporter": "python",
   "pygments_lexer": "ipython3",
   "version": "3.11.5"
  }
 },
 "nbformat": 4,
 "nbformat_minor": 5
}
